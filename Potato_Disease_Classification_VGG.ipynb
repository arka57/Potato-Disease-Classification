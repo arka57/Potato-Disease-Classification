{
  "nbformat": 4,
  "nbformat_minor": 0,
  "metadata": {
    "colab": {
      "provenance": [],
      "gpuType": "T4",
      "authorship_tag": "ABX9TyNCpyP/p0gSGmnXsU+TQbIk",
      "include_colab_link": true
    },
    "kernelspec": {
      "name": "python3",
      "display_name": "Python 3"
    },
    "language_info": {
      "name": "python"
    },
    "accelerator": "GPU",
    "gpuClass": "standard"
  },
  "cells": [
    {
      "cell_type": "markdown",
      "metadata": {
        "id": "view-in-github",
        "colab_type": "text"
      },
      "source": [
        "<a href=\"https://colab.research.google.com/github/arka57/Potato-Disease-Classification/blob/main/Potato_Disease_Classification_VGG.ipynb\" target=\"_parent\"><img src=\"https://colab.research.google.com/assets/colab-badge.svg\" alt=\"Open In Colab\"/></a>"
      ]
    },
    {
      "cell_type": "code",
      "execution_count": 1,
      "metadata": {
        "id": "FfIHvdPjlRMF"
      },
      "outputs": [],
      "source": [
        "import numpy as np\n",
        "import pandas as pd\n",
        "import matplotlib.pyplot as plt\n",
        "import os\n",
        "from PIL import Image\n",
        "import torchvision as tv\n",
        "import torchvision.transforms as transforms\n",
        "from torch.utils.data import DataLoader, Dataset, random_split\n",
        "import torch\n",
        "import torch.nn as nn\n",
        "import torch.nn.functional as F\n",
        "import torch.optim as optim\n",
        "import copy\n",
        "import torchvision\n",
        "import torchvision.models as models"
      ]
    },
    {
      "cell_type": "code",
      "source": [
        "from google.colab import drive\n",
        "drive.mount('/gdrive')\n",
        "%cd /gdrive"
      ],
      "metadata": {
        "id": "X5dV2GTwlhi_",
        "colab": {
          "base_uri": "https://localhost:8080/"
        },
        "outputId": "fde37c87-2185-4a1e-c68e-76dd97ad1df9"
      },
      "execution_count": 2,
      "outputs": [
        {
          "output_type": "stream",
          "name": "stdout",
          "text": [
            "Mounted at /gdrive\n",
            "/gdrive\n"
          ]
        }
      ]
    },
    {
      "cell_type": "code",
      "source": [
        "cd MyDrive"
      ],
      "metadata": {
        "id": "oFSOUurGljzl",
        "colab": {
          "base_uri": "https://localhost:8080/"
        },
        "outputId": "7786cccd-9000-4d39-c2a7-7009f8db317d"
      },
      "execution_count": 3,
      "outputs": [
        {
          "output_type": "stream",
          "name": "stdout",
          "text": [
            "/gdrive/MyDrive\n"
          ]
        }
      ]
    },
    {
      "cell_type": "code",
      "source": [
        "transform = transforms.Compose([\n",
        "        transforms.RandomResizedCrop(224),\n",
        "        transforms.RandomHorizontalFlip(),\n",
        "        transforms.ToTensor(),\n",
        "        transforms.Normalize([0.485, 0.456, 0.406], [0.229, 0.224, 0.225])\n",
        "    ])"
      ],
      "metadata": {
        "id": "dIx4hirqln69"
      },
      "execution_count": 4,
      "outputs": []
    },
    {
      "cell_type": "code",
      "source": [
        "full_data = tv.datasets.ImageFolder(root=\"Potato_Disease_Classification\",transform=transform)"
      ],
      "metadata": {
        "id": "zQvDPW6LlqL1"
      },
      "execution_count": 5,
      "outputs": []
    },
    {
      "cell_type": "code",
      "source": [
        "image,label=full_data[0]"
      ],
      "metadata": {
        "id": "OR8MWmu8lr-l"
      },
      "execution_count": null,
      "outputs": []
    },
    {
      "cell_type": "code",
      "source": [
        "image=image.detach().numpy()\n",
        "image=np.transpose(image,(1,2,0))\n",
        "#plt.figure(figsize=(10, 10))\n",
        "plt.imshow(image)\n",
        "plt.show()"
      ],
      "metadata": {
        "id": "pX-jdwUolt6H"
      },
      "execution_count": null,
      "outputs": []
    },
    {
      "cell_type": "code",
      "source": [
        "train_size = int(0.8 * len(full_data))\n",
        "test_size = len(full_data) - train_size\n",
        "val_size=int(0.5*test_size)\n",
        "test_size=test_size-val_size"
      ],
      "metadata": {
        "id": "EBgv8D07lweu"
      },
      "execution_count": 6,
      "outputs": []
    },
    {
      "cell_type": "code",
      "source": [
        "train_data, test_data,validation_data = random_split(full_data, [train_size, test_size,val_size])\n",
        "\n",
        "train_loader = torch.utils.data.DataLoader(train_data, batch_size=32, shuffle=True)\n",
        "test_loader = torch.utils.data.DataLoader(test_data, batch_size=32, shuffle=True)\n",
        "validation_loader = torch.utils.data.DataLoader(test_data, batch_size=32, shuffle=True)"
      ],
      "metadata": {
        "id": "0Nj7WNsclz5j"
      },
      "execution_count": 7,
      "outputs": []
    },
    {
      "cell_type": "code",
      "source": [
        "#Defining The Model"
      ],
      "metadata": {
        "id": "2nqGRYsul1Y0"
      },
      "execution_count": null,
      "outputs": []
    },
    {
      "cell_type": "code",
      "source": [
        "vgg=models.vgg16(weights='IMAGENET1K_V1')"
      ],
      "metadata": {
        "id": "1UBeHrrKl4s1"
      },
      "execution_count": 30,
      "outputs": []
    },
    {
      "cell_type": "code",
      "source": [
        "print(vgg)"
      ],
      "metadata": {
        "colab": {
          "base_uri": "https://localhost:8080/"
        },
        "id": "uqrVggaImSZl",
        "outputId": "94831bcb-28c8-436b-b643-7eb6c7edaf03"
      },
      "execution_count": 31,
      "outputs": [
        {
          "output_type": "stream",
          "name": "stdout",
          "text": [
            "VGG(\n",
            "  (features): Sequential(\n",
            "    (0): Conv2d(3, 64, kernel_size=(3, 3), stride=(1, 1), padding=(1, 1))\n",
            "    (1): ReLU(inplace=True)\n",
            "    (2): Conv2d(64, 64, kernel_size=(3, 3), stride=(1, 1), padding=(1, 1))\n",
            "    (3): ReLU(inplace=True)\n",
            "    (4): MaxPool2d(kernel_size=2, stride=2, padding=0, dilation=1, ceil_mode=False)\n",
            "    (5): Conv2d(64, 128, kernel_size=(3, 3), stride=(1, 1), padding=(1, 1))\n",
            "    (6): ReLU(inplace=True)\n",
            "    (7): Conv2d(128, 128, kernel_size=(3, 3), stride=(1, 1), padding=(1, 1))\n",
            "    (8): ReLU(inplace=True)\n",
            "    (9): MaxPool2d(kernel_size=2, stride=2, padding=0, dilation=1, ceil_mode=False)\n",
            "    (10): Conv2d(128, 256, kernel_size=(3, 3), stride=(1, 1), padding=(1, 1))\n",
            "    (11): ReLU(inplace=True)\n",
            "    (12): Conv2d(256, 256, kernel_size=(3, 3), stride=(1, 1), padding=(1, 1))\n",
            "    (13): ReLU(inplace=True)\n",
            "    (14): Conv2d(256, 256, kernel_size=(3, 3), stride=(1, 1), padding=(1, 1))\n",
            "    (15): ReLU(inplace=True)\n",
            "    (16): MaxPool2d(kernel_size=2, stride=2, padding=0, dilation=1, ceil_mode=False)\n",
            "    (17): Conv2d(256, 512, kernel_size=(3, 3), stride=(1, 1), padding=(1, 1))\n",
            "    (18): ReLU(inplace=True)\n",
            "    (19): Conv2d(512, 512, kernel_size=(3, 3), stride=(1, 1), padding=(1, 1))\n",
            "    (20): ReLU(inplace=True)\n",
            "    (21): Conv2d(512, 512, kernel_size=(3, 3), stride=(1, 1), padding=(1, 1))\n",
            "    (22): ReLU(inplace=True)\n",
            "    (23): MaxPool2d(kernel_size=2, stride=2, padding=0, dilation=1, ceil_mode=False)\n",
            "    (24): Conv2d(512, 512, kernel_size=(3, 3), stride=(1, 1), padding=(1, 1))\n",
            "    (25): ReLU(inplace=True)\n",
            "    (26): Conv2d(512, 512, kernel_size=(3, 3), stride=(1, 1), padding=(1, 1))\n",
            "    (27): ReLU(inplace=True)\n",
            "    (28): Conv2d(512, 512, kernel_size=(3, 3), stride=(1, 1), padding=(1, 1))\n",
            "    (29): ReLU(inplace=True)\n",
            "    (30): MaxPool2d(kernel_size=2, stride=2, padding=0, dilation=1, ceil_mode=False)\n",
            "  )\n",
            "  (avgpool): AdaptiveAvgPool2d(output_size=(7, 7))\n",
            "  (classifier): Sequential(\n",
            "    (0): Linear(in_features=25088, out_features=4096, bias=True)\n",
            "    (1): ReLU(inplace=True)\n",
            "    (2): Dropout(p=0.5, inplace=False)\n",
            "    (3): Linear(in_features=4096, out_features=4096, bias=True)\n",
            "    (4): ReLU(inplace=True)\n",
            "    (5): Dropout(p=0.5, inplace=False)\n",
            "    (6): Linear(in_features=4096, out_features=1000, bias=True)\n",
            "  )\n",
            ")\n"
          ]
        }
      ]
    },
    {
      "cell_type": "code",
      "source": [
        "print(vgg.features)"
      ],
      "metadata": {
        "colab": {
          "base_uri": "https://localhost:8080/"
        },
        "id": "s2zvSsKxmub1",
        "outputId": "59b66335-ae6d-4aeb-a03e-5914e672d830"
      },
      "execution_count": 12,
      "outputs": [
        {
          "output_type": "stream",
          "name": "stdout",
          "text": [
            "Sequential(\n",
            "  (0): Conv2d(3, 64, kernel_size=(3, 3), stride=(1, 1), padding=(1, 1))\n",
            "  (1): ReLU(inplace=True)\n",
            "  (2): Conv2d(64, 64, kernel_size=(3, 3), stride=(1, 1), padding=(1, 1))\n",
            "  (3): ReLU(inplace=True)\n",
            "  (4): MaxPool2d(kernel_size=2, stride=2, padding=0, dilation=1, ceil_mode=False)\n",
            "  (5): Conv2d(64, 128, kernel_size=(3, 3), stride=(1, 1), padding=(1, 1))\n",
            "  (6): ReLU(inplace=True)\n",
            "  (7): Conv2d(128, 128, kernel_size=(3, 3), stride=(1, 1), padding=(1, 1))\n",
            "  (8): ReLU(inplace=True)\n",
            "  (9): MaxPool2d(kernel_size=2, stride=2, padding=0, dilation=1, ceil_mode=False)\n",
            "  (10): Conv2d(128, 256, kernel_size=(3, 3), stride=(1, 1), padding=(1, 1))\n",
            "  (11): ReLU(inplace=True)\n",
            "  (12): Conv2d(256, 256, kernel_size=(3, 3), stride=(1, 1), padding=(1, 1))\n",
            "  (13): ReLU(inplace=True)\n",
            "  (14): Conv2d(256, 256, kernel_size=(3, 3), stride=(1, 1), padding=(1, 1))\n",
            "  (15): ReLU(inplace=True)\n",
            "  (16): MaxPool2d(kernel_size=2, stride=2, padding=0, dilation=1, ceil_mode=False)\n",
            "  (17): Conv2d(256, 512, kernel_size=(3, 3), stride=(1, 1), padding=(1, 1))\n",
            "  (18): ReLU(inplace=True)\n",
            "  (19): Conv2d(512, 512, kernel_size=(3, 3), stride=(1, 1), padding=(1, 1))\n",
            "  (20): ReLU(inplace=True)\n",
            "  (21): Conv2d(512, 512, kernel_size=(3, 3), stride=(1, 1), padding=(1, 1))\n",
            "  (22): ReLU(inplace=True)\n",
            "  (23): MaxPool2d(kernel_size=2, stride=2, padding=0, dilation=1, ceil_mode=False)\n",
            "  (24): Conv2d(512, 512, kernel_size=(3, 3), stride=(1, 1), padding=(1, 1))\n",
            "  (25): ReLU(inplace=True)\n",
            "  (26): Conv2d(512, 512, kernel_size=(3, 3), stride=(1, 1), padding=(1, 1))\n",
            "  (27): ReLU(inplace=True)\n",
            "  (28): Conv2d(512, 512, kernel_size=(3, 3), stride=(1, 1), padding=(1, 1))\n",
            "  (29): ReLU(inplace=True)\n",
            "  (30): MaxPool2d(kernel_size=2, stride=2, padding=0, dilation=1, ceil_mode=False)\n",
            ")\n"
          ]
        }
      ]
    },
    {
      "cell_type": "code",
      "source": [
        "print(vgg.avgpool)"
      ],
      "metadata": {
        "colab": {
          "base_uri": "https://localhost:8080/"
        },
        "id": "WjbeIQ8om8qE",
        "outputId": "0ef6ff82-e129-42d8-d3b3-f40cc6a667ec"
      },
      "execution_count": 13,
      "outputs": [
        {
          "output_type": "stream",
          "name": "stdout",
          "text": [
            "AdaptiveAvgPool2d(output_size=(7, 7))\n"
          ]
        }
      ]
    },
    {
      "cell_type": "code",
      "source": [
        "print(vgg.classifier)"
      ],
      "metadata": {
        "colab": {
          "base_uri": "https://localhost:8080/"
        },
        "id": "zd3jFreGnIFN",
        "outputId": "0ec73dcd-12b9-4031-e7b8-b6838ae33961"
      },
      "execution_count": 14,
      "outputs": [
        {
          "output_type": "stream",
          "name": "stdout",
          "text": [
            "Sequential(\n",
            "  (0): Linear(in_features=25088, out_features=4096, bias=True)\n",
            "  (1): ReLU(inplace=True)\n",
            "  (2): Dropout(p=0.5, inplace=False)\n",
            "  (3): Linear(in_features=4096, out_features=4096, bias=True)\n",
            "  (4): ReLU(inplace=True)\n",
            "  (5): Dropout(p=0.5, inplace=False)\n",
            "  (6): Linear(in_features=4096, out_features=1000, bias=True)\n",
            ")\n"
          ]
        }
      ]
    },
    {
      "cell_type": "code",
      "source": [
        "#Will use pre-Traind VGG model. So setting the parameters should not be trained further"
      ],
      "metadata": {
        "id": "drfgUdPdnZpd"
      },
      "execution_count": null,
      "outputs": []
    },
    {
      "cell_type": "code",
      "source": [
        "for i in vgg.parameters():\n",
        "    \n",
        "    i.requires_grad=False\n",
        "    "
      ],
      "metadata": {
        "id": "4IGIBo0qLSAk"
      },
      "execution_count": 16,
      "outputs": []
    },
    {
      "cell_type": "code",
      "source": [
        "#Will now modify the model to classify only 3 classes"
      ],
      "metadata": {
        "id": "PPqz2t_fLisN"
      },
      "execution_count": null,
      "outputs": []
    },
    {
      "cell_type": "code",
      "source": [
        "for i,j in enumerate(vgg.parameters()):\n",
        "    if(i>20):\n",
        "        j.requires_grad=True\n",
        "    else:\n",
        "        j.requires_grad=False    "
      ],
      "metadata": {
        "id": "_6NBtXbnyd8o"
      },
      "execution_count": 33,
      "outputs": []
    },
    {
      "cell_type": "code",
      "source": [
        "out_features=3\n",
        "last_in_features=vgg.classifier[6].in_features"
      ],
      "metadata": {
        "id": "YIQLU2P1L9AO"
      },
      "execution_count": 34,
      "outputs": []
    },
    {
      "cell_type": "code",
      "source": [
        "vgg.classifier[6]=nn.Linear(last_in_features,out_features)"
      ],
      "metadata": {
        "id": "C0PRVPOILnTd"
      },
      "execution_count": 35,
      "outputs": []
    },
    {
      "cell_type": "code",
      "source": [
        "for i in vgg.parameters():\n",
        "    if(i.requires_grad!=False):\n",
        "        print(i.shape)"
      ],
      "metadata": {
        "colab": {
          "base_uri": "https://localhost:8080/"
        },
        "id": "8dti-FbqMa6W",
        "outputId": "f2802ddc-84bc-45f0-b0d5-3a35009dd34f"
      },
      "execution_count": 36,
      "outputs": [
        {
          "output_type": "stream",
          "name": "stdout",
          "text": [
            "torch.Size([512])\n",
            "torch.Size([512, 512, 3, 3])\n",
            "torch.Size([512])\n",
            "torch.Size([512, 512, 3, 3])\n",
            "torch.Size([512])\n",
            "torch.Size([4096, 25088])\n",
            "torch.Size([4096])\n",
            "torch.Size([4096, 4096])\n",
            "torch.Size([4096])\n",
            "torch.Size([3, 4096])\n",
            "torch.Size([3])\n"
          ]
        }
      ]
    },
    {
      "cell_type": "code",
      "source": [
        "#So now only the last layers require training"
      ],
      "metadata": {
        "id": "zIbeknyTMkOV"
      },
      "execution_count": null,
      "outputs": []
    },
    {
      "cell_type": "code",
      "source": [
        "print(vgg)"
      ],
      "metadata": {
        "colab": {
          "base_uri": "https://localhost:8080/"
        },
        "id": "6mtWVrPxMqpR",
        "outputId": "e097fc0d-f6dd-41f4-c610-f3e64d9fad3c"
      },
      "execution_count": 37,
      "outputs": [
        {
          "output_type": "stream",
          "name": "stdout",
          "text": [
            "VGG(\n",
            "  (features): Sequential(\n",
            "    (0): Conv2d(3, 64, kernel_size=(3, 3), stride=(1, 1), padding=(1, 1))\n",
            "    (1): ReLU(inplace=True)\n",
            "    (2): Conv2d(64, 64, kernel_size=(3, 3), stride=(1, 1), padding=(1, 1))\n",
            "    (3): ReLU(inplace=True)\n",
            "    (4): MaxPool2d(kernel_size=2, stride=2, padding=0, dilation=1, ceil_mode=False)\n",
            "    (5): Conv2d(64, 128, kernel_size=(3, 3), stride=(1, 1), padding=(1, 1))\n",
            "    (6): ReLU(inplace=True)\n",
            "    (7): Conv2d(128, 128, kernel_size=(3, 3), stride=(1, 1), padding=(1, 1))\n",
            "    (8): ReLU(inplace=True)\n",
            "    (9): MaxPool2d(kernel_size=2, stride=2, padding=0, dilation=1, ceil_mode=False)\n",
            "    (10): Conv2d(128, 256, kernel_size=(3, 3), stride=(1, 1), padding=(1, 1))\n",
            "    (11): ReLU(inplace=True)\n",
            "    (12): Conv2d(256, 256, kernel_size=(3, 3), stride=(1, 1), padding=(1, 1))\n",
            "    (13): ReLU(inplace=True)\n",
            "    (14): Conv2d(256, 256, kernel_size=(3, 3), stride=(1, 1), padding=(1, 1))\n",
            "    (15): ReLU(inplace=True)\n",
            "    (16): MaxPool2d(kernel_size=2, stride=2, padding=0, dilation=1, ceil_mode=False)\n",
            "    (17): Conv2d(256, 512, kernel_size=(3, 3), stride=(1, 1), padding=(1, 1))\n",
            "    (18): ReLU(inplace=True)\n",
            "    (19): Conv2d(512, 512, kernel_size=(3, 3), stride=(1, 1), padding=(1, 1))\n",
            "    (20): ReLU(inplace=True)\n",
            "    (21): Conv2d(512, 512, kernel_size=(3, 3), stride=(1, 1), padding=(1, 1))\n",
            "    (22): ReLU(inplace=True)\n",
            "    (23): MaxPool2d(kernel_size=2, stride=2, padding=0, dilation=1, ceil_mode=False)\n",
            "    (24): Conv2d(512, 512, kernel_size=(3, 3), stride=(1, 1), padding=(1, 1))\n",
            "    (25): ReLU(inplace=True)\n",
            "    (26): Conv2d(512, 512, kernel_size=(3, 3), stride=(1, 1), padding=(1, 1))\n",
            "    (27): ReLU(inplace=True)\n",
            "    (28): Conv2d(512, 512, kernel_size=(3, 3), stride=(1, 1), padding=(1, 1))\n",
            "    (29): ReLU(inplace=True)\n",
            "    (30): MaxPool2d(kernel_size=2, stride=2, padding=0, dilation=1, ceil_mode=False)\n",
            "  )\n",
            "  (avgpool): AdaptiveAvgPool2d(output_size=(7, 7))\n",
            "  (classifier): Sequential(\n",
            "    (0): Linear(in_features=25088, out_features=4096, bias=True)\n",
            "    (1): ReLU(inplace=True)\n",
            "    (2): Dropout(p=0.5, inplace=False)\n",
            "    (3): Linear(in_features=4096, out_features=4096, bias=True)\n",
            "    (4): ReLU(inplace=True)\n",
            "    (5): Dropout(p=0.5, inplace=False)\n",
            "    (6): Linear(in_features=4096, out_features=3, bias=True)\n",
            "  )\n",
            ")\n"
          ]
        }
      ]
    },
    {
      "cell_type": "code",
      "source": [
        "device = torch.device(\"cuda:0\" if torch.cuda.is_available() else \"cpu\")\n",
        "print(device)"
      ],
      "metadata": {
        "colab": {
          "base_uri": "https://localhost:8080/"
        },
        "id": "uPEHkrbgMt-l",
        "outputId": "37f7d415-13fb-4ebf-9b05-5b59269f393e"
      },
      "execution_count": 38,
      "outputs": [
        {
          "output_type": "stream",
          "name": "stdout",
          "text": [
            "cuda:0\n"
          ]
        }
      ]
    },
    {
      "cell_type": "code",
      "source": [
        "vgg = vgg.to(device)\n",
        "loss_fn = nn.CrossEntropyLoss()\n",
        "opt = optim.SGD(vgg.parameters(), lr=0.01)"
      ],
      "metadata": {
        "id": "2RO-k12UNXT0"
      },
      "execution_count": 39,
      "outputs": []
    },
    {
      "cell_type": "code",
      "source": [
        "def evaluation(dataloader):\n",
        "    total=0\n",
        "    correct=0\n",
        "    for data in dataloader:\n",
        "        input,label=data\n",
        "        input,label = input.to(device), label.to(device)\n",
        "        output=vgg.forward(input)\n",
        "        _,pred=torch.max(output,1)\n",
        "        total+=label.size(0)\n",
        "        correct+=(pred==label).sum().item()\n",
        "    return (correct/total)*100    "
      ],
      "metadata": {
        "id": "QVJF7YUzN0PE"
      },
      "execution_count": 40,
      "outputs": []
    },
    {
      "cell_type": "code",
      "source": [
        "%%time\n",
        "epoch=50\n",
        "min_loss=1000\n",
        "loss_epoch=[]\n",
        "train_accuracy_epoch=[]\n",
        "validation_accuracy_epoch=[]\n",
        "for i in range(0,epoch):\n",
        "    for j,data in enumerate(train_loader,0):\n",
        "        input,label=data\n",
        "        input,label = input.to(device), label.to(device)\n",
        "        \n",
        "        output=vgg.forward(input)\n",
        "        \n",
        "        loss=loss_fn(output,label)\n",
        "        loss.backward()\n",
        "        opt.step()\n",
        "        opt.zero_grad()\n",
        "\n",
        "        del input, label, output\n",
        "        torch.cuda.empty_cache()\n",
        "\n",
        "        if(loss<min_loss):\n",
        "            min_loss=loss\n",
        "            best_model=copy.deepcopy(vgg.state_dict())\n",
        "\n",
        "    loss_epoch.append(loss.item())\n",
        "    x=evaluation(train_loader)\n",
        "    y=evaluation(validation_loader)\n",
        "    print('Epoch %d/%d ,Training accuracy %0.2f,Validation Accuracy %0.2f' %(i,epoch,x,y))\n",
        "    train_accuracy_epoch.append(x)\n",
        "    validation_accuracy_epoch.append(y)\n",
        "plt.plot(loss_epoch)\n",
        "plt.xlabel(\"Epoch\")\n",
        "plt.ylabel(\"Loss\")\n",
        "plt.show()  "
      ],
      "metadata": {
        "colab": {
          "base_uri": "https://localhost:8080/",
          "height": 1000
        },
        "id": "ALMgWkUpN842",
        "outputId": "b3b263d3-c36f-4f8a-9952-e6749b81b86e"
      },
      "execution_count": 41,
      "outputs": [
        {
          "output_type": "stream",
          "name": "stdout",
          "text": [
            "Epoch 0/50 ,Training accuracy 92.68,Validation Accuracy 89.35\n",
            "Epoch 1/50 ,Training accuracy 90.18,Validation Accuracy 89.35\n",
            "Epoch 2/50 ,Training accuracy 95.58,Validation Accuracy 95.37\n",
            "Epoch 3/50 ,Training accuracy 96.11,Validation Accuracy 93.98\n",
            "Epoch 4/50 ,Training accuracy 96.75,Validation Accuracy 97.22\n",
            "Epoch 5/50 ,Training accuracy 96.75,Validation Accuracy 97.69\n",
            "Epoch 6/50 ,Training accuracy 97.39,Validation Accuracy 97.69\n",
            "Epoch 7/50 ,Training accuracy 97.68,Validation Accuracy 94.91\n",
            "Epoch 8/50 ,Training accuracy 97.56,Validation Accuracy 97.69\n",
            "Epoch 9/50 ,Training accuracy 97.85,Validation Accuracy 98.15\n",
            "Epoch 10/50 ,Training accuracy 98.20,Validation Accuracy 99.07\n",
            "Epoch 11/50 ,Training accuracy 97.04,Validation Accuracy 96.76\n",
            "Epoch 12/50 ,Training accuracy 98.08,Validation Accuracy 95.83\n",
            "Epoch 13/50 ,Training accuracy 98.37,Validation Accuracy 97.69\n",
            "Epoch 14/50 ,Training accuracy 97.79,Validation Accuracy 98.61\n",
            "Epoch 15/50 ,Training accuracy 98.43,Validation Accuracy 97.69\n",
            "Epoch 16/50 ,Training accuracy 97.33,Validation Accuracy 96.76\n",
            "Epoch 17/50 ,Training accuracy 98.20,Validation Accuracy 95.83\n",
            "Epoch 18/50 ,Training accuracy 98.95,Validation Accuracy 98.15\n",
            "Epoch 19/50 ,Training accuracy 98.61,Validation Accuracy 96.76\n",
            "Epoch 20/50 ,Training accuracy 98.02,Validation Accuracy 97.22\n",
            "Epoch 21/50 ,Training accuracy 98.95,Validation Accuracy 97.22\n",
            "Epoch 22/50 ,Training accuracy 98.43,Validation Accuracy 98.15\n",
            "Epoch 23/50 ,Training accuracy 98.20,Validation Accuracy 98.15\n",
            "Epoch 24/50 ,Training accuracy 98.31,Validation Accuracy 97.69\n",
            "Epoch 25/50 ,Training accuracy 98.26,Validation Accuracy 97.69\n",
            "Epoch 26/50 ,Training accuracy 98.66,Validation Accuracy 98.61\n",
            "Epoch 27/50 ,Training accuracy 98.95,Validation Accuracy 98.61\n",
            "Epoch 28/50 ,Training accuracy 98.84,Validation Accuracy 97.22\n",
            "Epoch 29/50 ,Training accuracy 98.90,Validation Accuracy 99.07\n",
            "Epoch 30/50 ,Training accuracy 99.01,Validation Accuracy 99.54\n",
            "Epoch 31/50 ,Training accuracy 98.84,Validation Accuracy 97.69\n",
            "Epoch 32/50 ,Training accuracy 98.61,Validation Accuracy 98.61\n",
            "Epoch 33/50 ,Training accuracy 98.95,Validation Accuracy 99.54\n",
            "Epoch 34/50 ,Training accuracy 98.66,Validation Accuracy 99.54\n",
            "Epoch 35/50 ,Training accuracy 97.79,Validation Accuracy 96.30\n",
            "Epoch 36/50 ,Training accuracy 98.95,Validation Accuracy 96.76\n",
            "Epoch 37/50 ,Training accuracy 98.72,Validation Accuracy 99.54\n",
            "Epoch 38/50 ,Training accuracy 99.01,Validation Accuracy 97.69\n",
            "Epoch 39/50 ,Training accuracy 98.37,Validation Accuracy 98.15\n",
            "Epoch 40/50 ,Training accuracy 99.24,Validation Accuracy 97.69\n",
            "Epoch 41/50 ,Training accuracy 98.95,Validation Accuracy 98.61\n",
            "Epoch 42/50 ,Training accuracy 98.61,Validation Accuracy 97.69\n",
            "Epoch 43/50 ,Training accuracy 99.07,Validation Accuracy 97.69\n",
            "Epoch 44/50 ,Training accuracy 99.30,Validation Accuracy 98.15\n",
            "Epoch 45/50 ,Training accuracy 99.07,Validation Accuracy 97.69\n",
            "Epoch 46/50 ,Training accuracy 98.66,Validation Accuracy 96.76\n",
            "Epoch 47/50 ,Training accuracy 99.24,Validation Accuracy 98.15\n",
            "Epoch 48/50 ,Training accuracy 98.90,Validation Accuracy 98.15\n",
            "Epoch 49/50 ,Training accuracy 99.19,Validation Accuracy 97.69\n"
          ]
        },
        {
          "output_type": "display_data",
          "data": {
            "text/plain": [
              "<Figure size 640x480 with 1 Axes>"
            ],
            "image/png": "[encoded data removed]"
          },
          "metadata": {}
        },
        {
          "output_type": "stream",
          "name": "stdout",
          "text": [
            "CPU times: user 25min 34s, sys: 1min, total: 26min 34s\n",
            "Wall time: 29min 15s\n"
          ]
        }
      ]
    },
    {
      "cell_type": "code",
      "source": [
        "plt.figure(figsize=(25, 8))\n",
        "plt.subplot(1,2,1)\n",
        "plt.plot(train_accuracy_epoch,label=\"Train Accuracy\")\n",
        "plt.plot(validation_accuracy_epoch,label=\"Validation Accuracy\")\n",
        "plt.xlabel(\"Epoch\")\n",
        "plt.ylabel(\"Accuracy\")\n",
        "#plt.ylim(0,100)\n",
        "plt.legend()\n",
        "plt.show()"
      ],
      "metadata": {
        "id": "CDxuNOdZOdkk",
        "colab": {
          "base_uri": "https://localhost:8080/",
          "height": 699
        },
        "outputId": "2f4057a1-d126-4b67-e976-dadb3a934aa2"
      },
      "execution_count": 44,
      "outputs": [
        {
          "output_type": "display_data",
          "data": {
            "text/plain": [
              "<Figure size 2500x800 with 1 Axes>"
            ],
            "image/png": "[encoded data removed]"
          },
          "metadata": {}
        }
      ]
    },
    {
      "cell_type": "code",
      "source": [
        "torch.save(best_model,\"potato_vgg3.th\")"
      ],
      "metadata": {
        "id": "m2ACOpkIYOh6"
      },
      "execution_count": 45,
      "outputs": []
    }
  ]
}